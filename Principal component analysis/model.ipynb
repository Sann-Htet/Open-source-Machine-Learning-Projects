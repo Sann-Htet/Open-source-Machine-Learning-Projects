{
 "cells": [
  {
   "cell_type": "code",
   "execution_count": 1,
   "metadata": {},
   "outputs": [
    {
     "name": "stderr",
     "output_type": "stream",
     "text": [
      "/home/sannhtet/.local/lib/python3.7/site-packages/pandas/compat/_optional.py:138: UserWarning: Pandas requires version '2.7.0' or newer of 'numexpr' (version '2.6.8' currently installed).\n",
      "  warnings.warn(msg, UserWarning)\n"
     ]
    }
   ],
   "source": [
    "import pandas as pd\n",
    "import numpy as np\n",
    "import random as rd\n",
    "from sklearn.decomposition import PCA\n",
    "from sklearn import preprocessing\n",
    "import matplotlib.pyplot as plt"
   ]
  },
  {
   "cell_type": "code",
   "execution_count": 7,
   "metadata": {},
   "outputs": [
    {
     "name": "stdout",
     "output_type": "stream",
     "text": [
      "       wt1  wt2  wt3  wt4  wt5  ko1  ko2  ko3  ko4  ko5\n",
      "gene1  451  470  505  507  506  123  127  120  118  108\n",
      "gene2  119  127  118  103   96  394  409  369  418  354\n",
      "gene3  312  288  304  323  313  854  845  834  812  871\n",
      "gene4  351  380  362  370  409  746  703  773  772  722\n",
      "gene5  360  364  397  365  353  791  807  815  795  878\n",
      "(100, 10)\n"
     ]
    }
   ],
   "source": [
    "genes = ['gene' + str(i) for i in range(1,101)]\n",
    "wt = ['wt' + str(i) for i in range(1,6)] # Wild type\n",
    "ko = ['ko' + str(i) for i in range(1,6)] # Knock out\n",
    "\n",
    "data = pd.DataFrame(columns=[*wt, *ko], index=genes)\n",
    "\n",
    "for i in range(len(data.index)):\n",
    "    data.iloc[i,0:5] = np.random.poisson(lam=rd.randrange(10,1000), size=5)\n",
    "    data.iloc[i,5:] = np.random.poisson(lam=rd.randrange(10,1000), size=5)\n",
    "    \n",
    "print(data.head())\n",
    "print(data.shape)"
   ]
  },
  {
   "cell_type": "code",
   "execution_count": 10,
   "metadata": {},
   "outputs": [],
   "source": [
    "scaled_data = preprocessing.scale(data.T)"
   ]
  },
  {
   "cell_type": "code",
   "execution_count": 12,
   "metadata": {},
   "outputs": [],
   "source": [
    "model = PCA()\n",
    "model.fit(scaled_data)\n",
    "pca_data = model.transform(scaled_data)"
   ]
  },
  {
   "cell_type": "code",
   "execution_count": 13,
   "metadata": {},
   "outputs": [
    {
     "data": {
      "image/png": "[encoded data removed]",
      "text/plain": [
       "<Figure size 432x288 with 1 Axes>"
      ]
     },
     "metadata": {
      "needs_background": "light"
     },
     "output_type": "display_data"
    }
   ],
   "source": [
    "per_var = np.round(model.explained_variance_ratio_*100, decimals=1)\n",
    "labels = ['PC' + str(x) for x in range(1, len(per_var)+1)]\n",
    "\n",
    "plt.bar(x=range(1,len(per_var)+1), height=per_var, tick_label=labels)\n",
    "plt.ylabel('Percentage of Explained Variance')\n",
    "plt.xlabel('Principal Component')\n",
    "plt.title('Scree Plot')\n",
    "plt.show()"
   ]
  },
  {
   "cell_type": "code",
   "execution_count": 19,
   "metadata": {},
   "outputs": [
    {
     "data": {
      "image/png": "[encoded data removed]",
      "text/plain": [
       "<Figure size 432x288 with 1 Axes>"
      ]
     },
     "metadata": {
      "needs_background": "light"
     },
     "output_type": "display_data"
    }
   ],
   "source": [
    "pca_df = pd.DataFrame(pca_data, index=[*wt, *ko], columns=labels)\n",
    "\n",
    "plt.scatter(pca_df.PC1, pca_df.PC2)\n",
    "plt.title('My PCA Graph')\n",
    "plt.xlabel('PC1 - {0}%'.format(per_var[0]))\n",
    "plt.ylabel('PC1 - {0}%'.format(per_var[1]))\n",
    "\n",
    "for sample in pca_df.index:\n",
    "    plt.annotate(sample, (pca_df.PC1.loc[sample], pca_df.PC2.loc[sample]))\n",
    "    \n",
    "plt.show()"
   ]
  },
  {
   "cell_type": "code",
   "execution_count": 20,
   "metadata": {},
   "outputs": [
    {
     "name": "stdout",
     "output_type": "stream",
     "text": [
      "gene93   -0.104777\n",
      "gene11    0.104769\n",
      "gene36   -0.104765\n",
      "gene95    0.104764\n",
      "gene85   -0.104755\n",
      "gene14   -0.104726\n",
      "gene24    0.104706\n",
      "gene82   -0.104702\n",
      "gene70   -0.104700\n",
      "gene52   -0.104689\n",
      "dtype: float64\n"
     ]
    }
   ],
   "source": [
    "loading_scores = pd.Series(model.components_[0], index=genes)\n",
    "sorted_loading_scores = loading_scores.abs().sort_values(ascending=False)\n",
    "\n",
    "top_10_genes = sorted_loading_scores[0:10].index.values\n",
    "print(loading_scores[top_10_genes])"
   ]
  },
  {
   "cell_type": "code",
   "execution_count": null,
   "metadata": {},
   "outputs": [],
   "source": []
  }
 ],
 "metadata": {
  "kernelspec": {
   "display_name": "Python 3",
   "language": "python",
   "name": "python3"
  },
  "language_info": {
   "codemirror_mode": {
    "name": "ipython",
    "version": 3
   },
   "file_extension": ".py",
   "mimetype": "text/x-python",
   "name": "python",
   "nbconvert_exporter": "python",
   "pygments_lexer": "ipython3",
   "version": "3.7.0"
  }
 },
 "nbformat": 4,
 "nbformat_minor": 2
}
